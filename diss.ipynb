{
 "cells": [
  {
   "cell_type": "markdown",
   "source": [
    "# Synaptic Protein-Protein Interactions Networks for insights into Schizophrenia"
   ],
   "metadata": {
    "collapsed": false
   }
  },
  {
   "cell_type": "markdown",
   "source": [
    "1. Gap between schizophrenia and BioNAR, add a few more schizophrenia studies and more synaptic things\n",
    "State of schizophrenia studies at the moment.\n",
    "2. Compare current schizophrenia genes to current synaptic database, see if these genes that are found in synapse.\n",
    "3. Find signature of schizophrenia. Add 2021 Paper.\n",
    "    Compare gene lists, 3 level properities: - High\n",
    "                                             - Middle - Broad\n",
    "4. Compare to our synaptic list if they are pre post or other. If more genes are found use the batabase to build the map of genes, use all 3. More context the better when having a return of 20000. 120 genes.\n",
    "5. Find how many and where, decided what compartment then build network using BioNAR. Run enrichment to see if over presented. Get best resilts from enrichment check what clusters are e.g. overlap."
   ],
   "metadata": {
    "collapsed": false
   }
  },
  {
   "cell_type": "code",
   "execution_count": 1,
   "outputs": [
    {
     "name": "stdout",
     "output_type": "stream",
     "text": [
      "Collecting biopython\r\n",
      "  Using cached biopython-1.81-cp39-cp39-macosx_10_9_x86_64.whl (2.7 MB)\r\n",
      "Collecting numpy\r\n",
      "  Using cached numpy-1.26.1-cp39-cp39-macosx_10_9_x86_64.whl (20.6 MB)\r\n",
      "Installing collected packages: numpy, biopython\r\n",
      "Successfully installed biopython-1.81 numpy-1.26.1\r\n",
      "\u001B[33mWARNING: You are using pip version 21.3.1; however, version 23.3.1 is available.\r\n",
      "You should consider upgrading via the '/Users/nicoleferguson/Documents/Dissertation/venv/bin/python -m pip install --upgrade pip' command.\u001B[0m\r\n",
      "Note: you may need to restart the kernel to use updated packages.\n",
      "Collecting PrettyTable\r\n",
      "  Using cached prettytable-3.9.0-py3-none-any.whl (27 kB)\r\n",
      "Requirement already satisfied: wcwidth in ./venv/lib/python3.9/site-packages (from PrettyTable) (0.2.8)\r\n",
      "Installing collected packages: PrettyTable\r\n",
      "Successfully installed PrettyTable-3.9.0\r\n",
      "\u001B[33mWARNING: You are using pip version 21.3.1; however, version 23.3.1 is available.\r\n",
      "You should consider upgrading via the '/Users/nicoleferguson/Documents/Dissertation/venv/bin/python -m pip install --upgrade pip' command.\u001B[0m\r\n",
      "Note: you may need to restart the kernel to use updated packages.\n"
     ]
    },
    {
     "ename": "ModuleNotFoundError",
     "evalue": "No module named 'matplotlib'",
     "output_type": "error",
     "traceback": [
      "\u001B[0;31m---------------------------------------------------------------------------\u001B[0m",
      "\u001B[0;31mModuleNotFoundError\u001B[0m                       Traceback (most recent call last)",
      "Cell \u001B[0;32mIn[1], line 19\u001B[0m\n\u001B[1;32m     17\u001B[0m \u001B[38;5;28;01mfrom\u001B[39;00m \u001B[38;5;21;01mBio\u001B[39;00m \u001B[38;5;28;01mimport\u001B[39;00m AlignIO\n\u001B[1;32m     18\u001B[0m \u001B[38;5;28;01mfrom\u001B[39;00m \u001B[38;5;21;01mBio\u001B[39;00m\u001B[38;5;21;01m.\u001B[39;00m\u001B[38;5;21;01mAlign\u001B[39;00m \u001B[38;5;28;01mimport\u001B[39;00m AlignInfo\n\u001B[0;32m---> 19\u001B[0m \u001B[38;5;28;01mfrom\u001B[39;00m \u001B[38;5;21;01mmatplotlib\u001B[39;00m \u001B[38;5;28;01mimport\u001B[39;00m pyplot \u001B[38;5;28;01mas\u001B[39;00m plt\n\u001B[1;32m     21\u001B[0m \u001B[38;5;66;03m# PrettyTable is a nice package for formatting tables - https://pypi.org/project/prettytable/\u001B[39;00m\n\u001B[1;32m     22\u001B[0m \u001B[38;5;28;01mimport\u001B[39;00m \u001B[38;5;21;01mprettytable\u001B[39;00m\n",
      "\u001B[0;31mModuleNotFoundError\u001B[0m: No module named 'matplotlib'"
     ]
    }
   ],
   "source": [
    "%pip install biopython\n",
    "%pip install PrettyTable\n",
    "\n",
    "# Import the Biopython functions we need.\n",
    "# Remember that you can look up BioPython functions here - https://biopython.org/docs/latest/api/Bio.html\n",
    "from Bio import SeqIO\n",
    "from Bio.Blast import NCBIWWW\n",
    "from Bio.Blast import NCBIXML\n",
    "from Bio import Entrez\n",
    "from Bio import Entrez\n",
    "from Bio.Blast import NCBIXML\n",
    "from Bio.Blast import NCBIWWW\n",
    "from Bio import SeqIO\n",
    "from Bio.Seq import Seq\n",
    "from Bio.SeqRecord import SeqRecord\n",
    "from Bio.Align.Applications import MuscleCommandline\n",
    "from Bio import AlignIO\n",
    "from Bio.Align import AlignInfo\n",
    "from matplotlib import pyplot as plt\n",
    "\n",
    "# PrettyTable is a nice package for formatting tables - https://pypi.org/project/prettytable/\n",
    "import prettytable\n",
    "from prettytable import PrettyTable\n"
   ],
   "metadata": {
    "collapsed": false
   }
  },
  {
   "cell_type": "code",
   "execution_count": null,
   "outputs": [],
   "source": [],
   "metadata": {
    "collapsed": false
   }
  }
 ],
 "metadata": {
  "kernelspec": {
   "display_name": "Python 3",
   "language": "python",
   "name": "python3"
  },
  "language_info": {
   "codemirror_mode": {
    "name": "ipython",
    "version": 2
   },
   "file_extension": ".py",
   "mimetype": "text/x-python",
   "name": "python",
   "nbconvert_exporter": "python",
   "pygments_lexer": "ipython2",
   "version": "2.7.6"
  }
 },
 "nbformat": 4,
 "nbformat_minor": 0
}
