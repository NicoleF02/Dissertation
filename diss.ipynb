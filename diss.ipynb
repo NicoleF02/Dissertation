{
 "cells": [
  {
   "cell_type": "markdown",
   "metadata": {
    "collapsed": false
   },
   "source": [
    "# Synaptic Protein-Protein Interactions Networks for insights into Schizophrenia"
   ]
  },
  {
   "cell_type": "markdown",
   "metadata": {
    "collapsed": false
   },
   "source": [
    "1. Gap between schizophrenia and BioNAR, add a few more schizophrenia studies and more synaptic things\n",
    "State of schizophrenia studies at the moment.\n",
    "2. Compare current schizophrenia genes to current synaptic database, see if these genes that are found in synapse.\n",
    "3. Find signature of schizophrenia. Add 2021 Paper.\n",
    "    Compare gene lists, 3 level properities: - High\n",
    "                                             - Middle - Broad\n",
    "4. Compare to our synaptic list if they are pre post or other. If more genes are found use the batabase to build the map of genes, use all 3. More context the better when having a return of 20000. 120 genes.\n",
    "5. Find how many and where, decided what compartment then build network using BioNAR. Run enrichment to see if over presented. Get best resilts from enrichment check what clusters are e.g. overlap."
   ]
  },
  {
   "cell_type": "code",
   "execution_count": 2,
   "metadata": {
    "collapsed": false
   },
   "outputs": [
    {
     "name": "stdout",
     "output_type": "stream",
     "text": [
      "Requirement already satisfied: biopython in ./venv/lib/python3.9/site-packages (1.81)\r\n",
      "Requirement already satisfied: numpy in ./venv/lib/python3.9/site-packages (from biopython) (1.26.1)\r\n",
      "\u001B[33mWARNING: You are using pip version 21.3.1; however, version 23.3.1 is available.\r\n",
      "You should consider upgrading via the '/Users/nicoleferguson/Documents/Dissertation/venv/bin/python -m pip install --upgrade pip' command.\u001B[0m\r\n",
      "Note: you may need to restart the kernel to use updated packages.\n",
      "Requirement already satisfied: PrettyTable in ./venv/lib/python3.9/site-packages (3.9.0)\r\n",
      "Requirement already satisfied: wcwidth in ./venv/lib/python3.9/site-packages (from PrettyTable) (0.2.8)\r\n",
      "\u001B[33mWARNING: You are using pip version 21.3.1; however, version 23.3.1 is available.\r\n",
      "You should consider upgrading via the '/Users/nicoleferguson/Documents/Dissertation/venv/bin/python -m pip install --upgrade pip' command.\u001B[0m\r\n",
      "Note: you may need to restart the kernel to use updated packages.\n"
     ]
    }
   ],
   "source": [
    "# Import the Biopython functions we need.\n",
    "# Remember that you can look up BioPython functions here - https://biopython.org/docs/latest/api/Bio.html\n",
    "from Bio import SeqIO\n",
    "from Bio.Blast import NCBIWWW\n",
    "from Bio.Blast import NCBIXML\n",
    "from Bio import Entrez\n",
    "from Bio import Entrez\n",
    "from Bio.Blast import NCBIXML\n",
    "from Bio.Blast import NCBIWWW\n",
    "from Bio import SeqIO\n",
    "from Bio.Seq import Seq\n",
    "from Bio.SeqRecord import SeqRecord\n",
    "from Bio.Align.Applications import MuscleCommandline\n",
    "from Bio import AlignIO\n",
    "from Bio.Align import AlignInfo\n",
    "from matplotlib import pyplot as plt\n",
    "\n",
    "# PrettyTable is a nice package for formatting tables - https://pypi.org/project/prettytable/\n",
    "import prettytable\n",
    "from prettytable import PrettyTable\n"
   ]
  },
  {
   "cell_type": "code",
   "execution_count": 2,
   "metadata": {
    "ExecuteTime": {
     "end_time": "2023-10-31T13:02:06.809375Z",
     "start_time": "2023-10-31T13:02:06.787316Z"
    },
    "collapsed": false
   },
   "outputs": [
    {
     "name": "stdout",
     "output_type": "stream",
     "text": [
      "469\n"
     ]
    }
   ],
   "source": [
    "# Trubetskoy_2022_prioritised = []\n",
    "# Trubetskoy_2022_prioritised_coding = []\n",
    "# Trubetskoy_2022_broad = []\n",
    "# Trubetskoy_2022_broad_coding = []\n",
    "# Trubetskoy_2022_broad_only = []\n",
    "# Trubetskoy_2022_broad_coding_only = []\n",
    "#Read file in\n",
    "with open(\"Files/Trubetskoy_2022_magma.txt\", \"r\") as f:\n",
    "    Trubetskoy_2022_prioritised = f.readline().split(\"\\t\").pop().strip(\"\\n\").split(\" \")\n",
    "    Trubetskoy_2022_prioritised_coding =  f.readline().split(\"\\t\").pop().strip(\"\\n\").split(\" \")\n",
    "    Trubetskoy_2022_broad =  f.readline().split(\"\\t\").pop().strip(\"\\n\").split(\" \")\n",
    "    Trubetskoy_2022_broad_coding =  f.readline().split(\"\\t\").pop().strip(\"\\n\").split(\" \")\n",
    "    Trubetskoy_2022_broad_only = f.readline().split(\"\\t\").pop().strip(\"\\n\").split(\" \")\n",
    "    Trubetskoy_2022_broad_coding_only =  f.readline().split(\"\\t\").pop().strip(\"\\n\").split(\" \")\n",
    "\n",
    "\n",
    "print(len(Trubetskoy_2022_broad_coding))\n",
    "\n",
    "# Only do the coding ones, broad coding and prioritised coding. \n",
    "# Compare both of them seperately with the 3 current data sets, to get two venn diagrams from them.\n",
    "# As soon as they are compared, find which pre,post will have more schizophrenia genes for it. Another set with in syn go and not in syn go. Another venn diagram with the database\n",
    "\n",
    "# Just join gene and disease\n",
    "# Extract list and filter it for non null, make sure its just for human.\n"
   ]
  },
  {
   "cell_type": "markdown",
   "metadata": {
    "collapsed": false
   },
   "source": [
    "The neuronal synapse is underpinned by one of the largest and most diverse proteomes known. We curated the publicly available dataset to describe a landscape of some ~ 8000 proteins found in mammalian synapses. Respective gene information along with subcellular localization, brain region, gene ontology, disease association and protein-protein interactions were stored as SQLite database [1]. Many synaptic protein genes are links to pathogenesis of various neurodevelopmental diseases, such as ASD and epilepsy [2], and many others. We aim to extend the database to include all publicly available neurodevelopmental disease mutation, allowing further analysis of possible mechanisms of disease comorbidity via extensive network analysis methods. Recently, we have incorporated this information for ASD by adding to database 9855 unique mutation with known cDNA variant, corresponding to 603 synaptic genes. Next candidate diseases are Schizophrenia, Bipolar Disorder, Unipolar Depression, Huntingdon’s Disease and ALS, although we are flexible to discuss the personal preferences, if any.\n",
    "\n",
    "<p>\n",
    "\n",
    "The work will include general data science steps, such as: 1) selection of publicly available mutation databases for specific disease, such as Denovo [3], ClinVar [4], etc.; 2) extracting the semantics of the selected mutation database and development of the procedure of its conversion into the target database semantics; 3) cleaning and merging the datasets; 4) represent new knowledge in the format compatible with our target database; and 5) population the latter with new datasets. Finally, the newly obtained gene- mutation relationships could be further analyzed with various bioinformatics methods, such as disease enrichment of the clustered pre- or post-synaptic networks, generation of Steiner tree/forest for diseases genes in specific compartment, or/and studying possible disease overlap/disjoint with other available disease (e.g. ASD).\n",
    "\n"
   ]
  },
  {
   "cell_type": "markdown",
   "metadata": {
    "collapsed": false
   },
   "source": [
    "doid:1229 DOID:5419 are schizophrenia ids, first one being for paranoid schizophrenia, unsure if we want to make a distinction, 2nd one for mice ?"
   ]
  },
  {
   "cell_type": "code",
   "execution_count": null,
   "metadata": {
    "collapsed": false
   },
   "outputs": [],
   "source": [
    "SQL = \"\"\"SELECT HumanEntrez,\n",
    "HumanName,\n",
    "HDOID,\n",
    "Description\n",
    "FROM FullGeneFullDisease\n",
    "WHERE HDOID = \"DOID:5419\" \"\"\""
   ]
  },
  {
   "cell_type": "code",
   "execution_count": null,
   "metadata": {
    "collapsed": false
   },
   "outputs": [],
   "source": [
    "SQL = \"\"\" SELECT p.GeneID, l.Name AS Localisation, MGI, HumanEntrez, MouseEntrez, HumanName, MouseName, PaperPMID, a.Name AS Paper,\n",
    "a.Year AS Year, SpeciesTaxID, MethodID, b.Name AS BrainRegion, d.HDOID AS Disease\n",
    "FROM Gene g JOIN PaperGene p ON g.ID = p.GeneID\n",
    "JOIN Localisation l ON l.ID = p.LocalisationID\n",
    "JOIN Paper a ON a.PMID = p.PaperPMID\n",
    "JOIN BrainRegion b ON b.ID = p.BrainRegionID\n",
    "JOIN DiseaseGene d ON g.ID = d.GeneID \"\"\""
   ]
  }
 ],
 "metadata": {
  "kernelspec": {
   "display_name": "Python 3 (ipykernel)",
   "language": "python",
   "name": "python3"
  },
  "language_info": {
   "codemirror_mode": {
    "name": "ipython",
    "version": 3
   },
   "file_extension": ".py",
   "mimetype": "text/x-python",
   "name": "python",
   "nbconvert_exporter": "python",
   "pygments_lexer": "ipython3",
   "version": "3.9.6"
  }
 },
 "nbformat": 4,
 "nbformat_minor": 4
}
